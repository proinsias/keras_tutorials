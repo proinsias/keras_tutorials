{
 "cells": [
  {
   "cell_type": "code",
   "execution_count": 1,
   "metadata": {
    "ExecuteTime": {
     "end_time": "2018-09-12T01:19:26.522244Z",
     "start_time": "2018-09-12T01:19:26.498959Z"
    }
   },
   "outputs": [
    {
     "data": {
      "text/plain": [
       "'\\nMulti-Class Classification Tutorial with the Keras Deep Learning Library.\\n\\nFrom https://machinelearningmastery.com/multi-class-classification-tutorial-keras-deep-learning-library/.\\n'"
      ]
     },
     "execution_count": 1,
     "metadata": {},
     "output_type": "execute_result"
    }
   ],
   "source": [
    "\"\"\"Multi-Class Classification Tutorial with the Keras Deep Learning Library.\"\"\""
   ]
  },
  {
   "cell_type": "code",
   "execution_count": 13,
   "metadata": {
    "ExecuteTime": {
     "end_time": "2018-09-12T02:04:24.680311Z",
     "start_time": "2018-09-12T02:04:24.652217Z"
    }
   },
   "outputs": [],
   "source": [
    "# From https://machinelearningmastery.com/multi-class-classification-tutorial-keras-deep-learning-library/."
   ]
  },
  {
   "cell_type": "code",
   "execution_count": 12,
   "metadata": {
    "ExecuteTime": {
     "end_time": "2018-09-12T01:48:52.355997Z",
     "start_time": "2018-09-12T01:48:52.323761Z"
    }
   },
   "outputs": [],
   "source": [
    "from IPython import get_ipython\n",
    "from keras.models import Sequential\n",
    "from keras.layers import Dense\n",
    "from keras.wrappers.scikit_learn import KerasClassifier\n",
    "from keras.utils import np_utils\n",
    "import numpy as np\n",
    "import pandas as pd\n",
    "from sklearn.model_selection import cross_val_score\n",
    "from sklearn.model_selection import KFold\n",
    "from sklearn.preprocessing import LabelEncoder"
   ]
  },
  {
   "cell_type": "code",
   "execution_count": 3,
   "metadata": {
    "ExecuteTime": {
     "end_time": "2018-09-12T01:20:44.627580Z",
     "start_time": "2018-09-12T01:20:44.542489Z"
    }
   },
   "outputs": [],
   "source": [
    "# fix random seed for reproducibility\n",
    "seed = 7\n",
    "np.random.seed(seed)"
   ]
  },
  {
   "cell_type": "code",
   "execution_count": 4,
   "metadata": {
    "ExecuteTime": {
     "end_time": "2018-09-12T01:20:45.090331Z",
     "start_time": "2018-09-12T01:20:44.631214Z"
    }
   },
   "outputs": [
    {
     "name": "stdout",
     "output_type": "stream",
     "text": [
      "WARNING: timestamping does nothing in combination with -O. See the manual\n",
      "for details.\n",
      "\n",
      "--2018-09-11 21:20:44--  http://archive.ics.uci.edu/ml/machine-learning-databases/iris/iris.data\n",
      "Resolving archive.ics.uci.edu (archive.ics.uci.edu)... 128.195.10.249\n",
      "Connecting to archive.ics.uci.edu (archive.ics.uci.edu)|128.195.10.249|:80... connected.\n",
      "HTTP request sent, awaiting response... \n",
      "  HTTP/1.1 200 OK\n",
      "  Date: Wed, 12 Sep 2018 01:20:44 GMT\n",
      "  Server: Apache/2.2.15 (CentOS)\n",
      "  Last-Modified: Tue, 09 Mar 1993 00:27:15 GMT\n",
      "  ETag: \"22e9fc8d-11c7-2996b79a79ec0\"\n",
      "  Accept-Ranges: bytes\n",
      "  Content-Length: 4551\n",
      "  Connection: close\n",
      "  Content-Type: text/plain; charset=UTF-8\n",
      "Length: 4551 (4.4K) [text/plain]\n",
      "Saving to: ‘../data/iris.csv’\n",
      "\n",
      "../data/iris.csv    100%[===================>]   4.44K  --.-KB/s    in 0s      \n",
      "\n",
      "2018-09-11 21:20:44 (12.3 MB/s) - ‘../data/iris.csv’ saved [4551/4551]\n",
      "\n"
     ]
    }
   ],
   "source": [
    "!wget http://archive.ics.uci.edu/ml/machine-learning-databases/iris/iris.data --output-document ../data/iris.csv"
   ]
  },
  {
   "cell_type": "code",
   "execution_count": 5,
   "metadata": {
    "ExecuteTime": {
     "end_time": "2018-09-12T01:20:45.156820Z",
     "start_time": "2018-09-12T01:20:45.093773Z"
    }
   },
   "outputs": [],
   "source": [
    "# load dataset\n",
    "dataframe = pd.read_csv(\"../data/iris.csv\", header=None)\n",
    "dataset = dataframe.values\n",
    "X = dataset[:, 0:4].astype(float)\n",
    "Y = dataset[:, 4]"
   ]
  },
  {
   "cell_type": "code",
   "execution_count": 6,
   "metadata": {
    "ExecuteTime": {
     "end_time": "2018-09-12T01:20:45.192168Z",
     "start_time": "2018-09-12T01:20:45.158807Z"
    }
   },
   "outputs": [
    {
     "data": {
      "text/plain": [
       "((150, 4), (150,))"
      ]
     },
     "execution_count": 6,
     "metadata": {},
     "output_type": "execute_result"
    }
   ],
   "source": [
    "X.shape, Y.shape"
   ]
  },
  {
   "cell_type": "code",
   "execution_count": 7,
   "metadata": {
    "ExecuteTime": {
     "end_time": "2018-09-12T01:20:45.235461Z",
     "start_time": "2018-09-12T01:20:45.195161Z"
    }
   },
   "outputs": [],
   "source": [
    "# encode class values as integers\n",
    "encoder = LabelEncoder()\n",
    "_ = encoder.fit(Y)\n",
    "encoded_Y = encoder.transform(Y)\n",
    "# convert integers to dummy variables (i.e. one hot encoded)\n",
    "dummy_y = np_utils.to_categorical(encoded_Y)"
   ]
  },
  {
   "cell_type": "code",
   "execution_count": 8,
   "metadata": {
    "ExecuteTime": {
     "end_time": "2018-09-12T01:20:45.276957Z",
     "start_time": "2018-09-12T01:20:45.239823Z"
    }
   },
   "outputs": [],
   "source": [
    "# define baseline model\n",
    "def baseline_model():\n",
    "    \"\"\"Create baseline model.\"\"\"\n",
    "    \n",
    "    model = Sequential()\n",
    "    model.add(Dense(8, input_dim=4, activation='relu'))\n",
    "    model.add(Dense(3, activation='softmax'))\n",
    "    # Compile model\n",
    "    model.compile(loss='categorical_crossentropy', optimizer='adam', metrics=['accuracy'])\n",
    "    return model"
   ]
  },
  {
   "cell_type": "code",
   "execution_count": 9,
   "metadata": {
    "ExecuteTime": {
     "end_time": "2018-09-12T01:20:45.310391Z",
     "start_time": "2018-09-12T01:20:45.280057Z"
    }
   },
   "outputs": [],
   "source": [
    "estimator = KerasClassifier(build_fn=baseline_model, epochs=200, batch_size=5, verbose=0)"
   ]
  },
  {
   "cell_type": "code",
   "execution_count": 10,
   "metadata": {
    "ExecuteTime": {
     "end_time": "2018-09-12T01:20:45.475752Z",
     "start_time": "2018-09-12T01:20:45.439405Z"
    }
   },
   "outputs": [],
   "source": [
    "kfold = KFold(n_splits=10, shuffle=True, random_state=seed)"
   ]
  },
  {
   "cell_type": "code",
   "execution_count": 11,
   "metadata": {
    "ExecuteTime": {
     "end_time": "2018-09-12T01:24:00.228914Z",
     "start_time": "2018-09-12T01:20:46.124315Z"
    }
   },
   "outputs": [
    {
     "name": "stderr",
     "output_type": "stream",
     "text": [
      "INFO:plaidml:Opening device \"metal_amd_radeon_r9_m370x.0\"\n"
     ]
    },
    {
     "name": "stdout",
     "output_type": "stream",
     "text": [
      "Baseline: 97.33% (4.42%)\n"
     ]
    }
   ],
   "source": [
    "results = cross_val_score(estimator, X, dummy_y, cv=kfold)\n",
    "print(\"Baseline: %.2f%% (%.2f%%)\" % (results.mean() * 100, results.std() * 100))"
   ]
  },
  {
   "cell_type": "code",
   "execution_count": null,
   "metadata": {},
   "outputs": [],
   "source": []
  }
 ],
 "metadata": {
  "hide_input": false,
  "kernelspec": {
   "display_name": "Python 3",
   "language": "python",
   "name": "python3"
  }
 },
 "nbformat": 4,
 "nbformat_minor": 2
}
